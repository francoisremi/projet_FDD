{
 "cells": [
  {
   "cell_type": "code",
   "execution_count": 2,
   "metadata": {},
   "outputs": [],
   "source": [
    "#data analysis libraries \n",
    "import numpy as np\n",
    "import pandas as pd\n",
    "\n",
    "#visualization libraries\n",
    "import matplotlib.pyplot as plt\n",
    "import seaborn as sns\n",
    "%matplotlib inline"
   ]
  },
  {
   "cell_type": "code",
   "execution_count": 18,
   "metadata": {},
   "outputs": [],
   "source": [
    "\n",
    "\n",
    "#import train and test CSV files\n",
    "train = pd.read_csv(\"data/train-data.csv\", sep=\" \")\n",
    "\n"
   ]
  },
  {
   "cell_type": "code",
   "execution_count": 29,
   "metadata": {},
   "outputs": [
    {
     "name": "stdout",
     "output_type": "stream",
     "text": [
      "(417, 1301)\n",
      "Index(['species', 'feature_1', 'feature_2', 'feature_3', 'feature_4'], dtype='object')\n"
     ]
    },
    {
     "data": {
      "text/plain": [
       "259"
      ]
     },
     "execution_count": 29,
     "metadata": {},
     "output_type": "execute_result"
    }
   ],
   "source": [
    "print(train.shape) # return number of (rows, columns)\n",
    "print(train.columns[0:5])"
   ]
  },
  {
   "cell_type": "markdown",
   "metadata": {},
   "source": [
    "Il y a 1301 caractères étudiés pour 417 indvidus. La première colonne \"species\" constitue le caractère à inférer.\n",
    "\n",
    "Observons si il y a des NAN dans le fichier :"
   ]
  },
  {
   "cell_type": "code",
   "execution_count": 40,
   "metadata": {},
   "outputs": [
    {
     "name": "stdout",
     "output_type": "stream",
     "text": [
      "(417, 1276)\n"
     ]
    }
   ],
   "source": [
    "train_no_na = train.dropna(axis=\"columns\")\n",
    "print(train_no_na.shape)"
   ]
  },
  {
   "cell_type": "markdown",
   "metadata": {},
   "source": [
    "Nous faisons le choix de ne conserver que les données dont les caractères sont tous représentés parmis les individus."
   ]
  },
  {
   "cell_type": "code",
   "execution_count": 46,
   "metadata": {},
   "outputs": [],
   "source": [
    "\n",
    "\n",
    "### Corralation matrix heatmap\n",
    "# Getting correlation matrix\n",
    "cor_matrix = train.corr().round(2)\n",
    "\n",
    "\n",
    "\n"
   ]
  },
  {
   "cell_type": "code",
   "execution_count": null,
   "metadata": {},
   "outputs": [
    {
     "name": "stdout",
     "output_type": "stream",
     "text": [
      "(1300, 1300)\n"
     ]
    }
   ],
   "source": [
    "print(cor_matrix.shape) \n",
    "# Plotting heatmap "
   ]
  }
 ],
 "metadata": {
  "@webio": {
   "lastCommId": "b876f803e32243658a59a59fd44ffda6",
   "lastKernelId": "19fd2dfc-1e16-402f-a312-a12ad11999fe"
  },
  "kernelspec": {
   "display_name": "Python 3",
   "language": "python",
   "name": "python3"
  },
  "language_info": {
   "codemirror_mode": {
    "name": "ipython",
    "version": 3
   },
   "file_extension": ".py",
   "mimetype": "text/x-python",
   "name": "python",
   "nbconvert_exporter": "python",
   "pygments_lexer": "ipython3",
   "version": "3.5.3"
  }
 },
 "nbformat": 4,
 "nbformat_minor": 2
}
